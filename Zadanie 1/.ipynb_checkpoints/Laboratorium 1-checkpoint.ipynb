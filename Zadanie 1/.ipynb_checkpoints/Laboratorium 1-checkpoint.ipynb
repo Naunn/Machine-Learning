{
 "cells": [
  {
   "cell_type": "markdown",
   "metadata": {},
   "source": [
    "# Krótkie przypomnienie z programowania obiektowego\n",
    "Postawmy sobie nieskomplikowany problem rozwiązywania problemu \"Masterminda\". Za każdym razem gdy próbujemy odgadnąć kod, dostajemy informację\n",
    "zwrotną w postaci liczby trafień i liczby obiektów \"nie na swoim miejscu\" (przyjmijmy, że nie są znane pozycje, których dotyczą owe informacje).\n",
    "\n",
    "Celem dzisiejszych zajęć jest:\n",
    "\n",
    "-- utworzenie obiektu \"zagadki\"; -- utworzenie obiektu \"podejścia do rozwiązania\";\n",
    "\n",
    "Dla uproszczenia oznaczmy kolory przez liczby naturalne -- od $1$ do pewnego $K$ (na początku przyjmijmy, że $K = 20$).\n",
    "\n",
    "Przyjmijmy, że zagadka składa się z $N = 4$ pozycji."
   ]
  },
  {
   "cell_type": "code",
   "execution_count": 1,
   "metadata": {},
   "outputs": [],
   "source": [
    "import random\n",
    "import sys\n",
    "N = 4\n",
    "K = 20\n",
    "class Zagadka:\n",
    "\n",
    "    def __init__(self,seed):\n",
    "        random.seed(seed)\n",
    "        self.__haslo = [random.randint(1,K) for i in range(0,N)]\n",
    "\n",
    "    def to_string(self):\n",
    "        return str(self.__haslo)\n",
    "\n",
    "    #podstawowe porównanie -- szukamy miejsc, na których\n",
    "    #haslo i podejscie sie zgadzaja\n",
    "    \n",
    "    def basic_compare(self, podejscie):\n",
    "        poprawne = 0\n",
    "        for i in range(0,N):\n",
    "            if(self.__haslo[i] == podejscie[i]):\n",
    "                poprawne+=1\n",
    "        return poprawne"
   ]
  },
  {
   "cell_type": "markdown",
   "metadata": {},
   "source": [
    "Sprawdźmy, czy powyższa zagadka działa zgodnie z naszymi \"wstępnymi\" oczekiwaniami."
   ]
  },
  {
   "cell_type": "code",
   "execution_count": 2,
   "metadata": {},
   "outputs": [
    {
     "name": "stdout",
     "output_type": "stream",
     "text": [
      "[7, 7, 14, 20]\n",
      "Oczekujemy wyniku 2...\n"
     ]
    },
    {
     "data": {
      "text/plain": [
       "2"
      ]
     },
     "execution_count": 2,
     "metadata": {},
     "output_type": "execute_result"
    }
   ],
   "source": [
    "A = Zagadka(26)\n",
    "## Wypiszmy sobie jaka jest postać naszej zagadki:\n",
    "print(A.to_string())\n",
    "\n",
    "## Oczekiwalibyśmy, że wynikiem końcowym tego porównania będzie 2.\n",
    "print(\"Oczekujemy wyniku 2...\")\n",
    "A.basic_compare([17,7,14,9])"
   ]
  },
  {
   "cell_type": "markdown",
   "metadata": {},
   "source": [
    "Działa. Zatem co dalej?\n",
    "# ILS\n",
    "Dzisiaj (z powodu braku materiału wykładowego) popróbujemy czegoś co nazywamy ILS (iterated local search). A przy okazji odświeżymy sobie trochę wiedzy\n",
    "z programowania obiektowego.\n",
    "\n",
    "Ideą ILS jest dokonywanie nieznacznych zmian w dotychczasowej propozycji rozwiązania w celu poprawy wyniku. Spróbujmy więc -- zdefiniujmy w tym celu\n",
    "klasę \"rozwiazanie\", której damy metody -- *mutate* i *local_search*. Pierwsza z nich wprowadza małą zmianę do osobnika, druga zaś -- kontynuuje proces\n",
    "wprowadzania małych zmian \"do skutku\"."
   ]
  },
  {
   "cell_type": "code",
   "execution_count": 4,
   "metadata": {},
   "outputs": [],
   "source": [
    "class Solution:\n",
    "    def __init__(self,randomly = True, lista_n_elementowa = []):\n",
    "        if(randomly):\n",
    "            self.rozwiazanie = [random.randint(1,K) for i in range(0,N)]\n",
    "        else:\n",
    "            self.rozwiazanie = lista_n_elementowa\n",
    "\n",
    "    def mutate(self,position):\n",
    "        if(position>=N or position < 0):\n",
    "            print(\"Wskazano złą pozycję \", file=sys.stderr)\n",
    "            return\n",
    "        self.rozwiazanie[position] = random.randint(1,K)\n",
    "\n",
    "    def local_search(self, zagadka):\n",
    "        liczba_iteracji = 0\n",
    "        while(zagadka.basic_compare(self.rozwiazanie)<N):\n",
    "            self.mutate(random.randint(0,N-1))\n",
    "            liczba_iteracji+=1\n",
    "        print(\"Rozwiązanie znalezione po \",liczba_iteracji,\" iteracjach\")"
   ]
  },
  {
   "cell_type": "code",
   "execution_count": 5,
   "metadata": {},
   "outputs": [],
   "source": [
    "A = Zagadka(25)\n",
    "B = Solution()"
   ]
  },
  {
   "cell_type": "code",
   "execution_count": 6,
   "metadata": {},
   "outputs": [
    {
     "name": "stdout",
     "output_type": "stream",
     "text": [
      "Rozwiązanie znalezione po  156352  iteracjach\n"
     ]
    }
   ],
   "source": [
    "B.local_search(A)"
   ]
  },
  {
   "cell_type": "markdown",
   "metadata": {},
   "source": [
    "Dużo! Spróbujmy teraz akceptować tylko zmiany, które nie pogarszają nam uzyskiwanego wyniku:"
   ]
  },
  {
   "cell_type": "code",
   "execution_count": 7,
   "metadata": {},
   "outputs": [],
   "source": [
    "class Solution:\n",
    "    def __init__(self,randomly = True, lista_n_elementowa = []):\n",
    "        if(randomly):\n",
    "            self.rozwiazanie = [random.randint(1,K) for i in range(0,N)]\n",
    "        else:\n",
    "            self.rozwiazanie = lista_n_elementowa\n",
    "\n",
    "    def mutate(self,position):\n",
    "        if(position>=N or position < 0):\n",
    "            print(\"Wskazano złą pozycję \", file=sys.stderr)\n",
    "            return\n",
    "        self.previous_position = position\n",
    "        self.previous_value = self.rozwiazanie[position]\n",
    "        self.rozwiazanie[position] = random.randint(1,K)\n",
    "\n",
    "    def reverse_mutation(self):\n",
    "        self.rozwiazanie[self.previous_position] = self.previous_value\n",
    "\n",
    "    def local_search(self, zagadka):\n",
    "        liczba_iteracji = 0\n",
    "        while(zagadka.basic_compare(self.rozwiazanie)<N):\n",
    "            self.mutate(random.randint(0,N-1))\n",
    "            liczba_iteracji+=1\n",
    "        print(\"Rozwiązanie znalezione po \",liczba_iteracji,\" iteracjach\")\n",
    "\n",
    "    def iterated_local_search(self, zagadka):\n",
    "        liczba_iteracji = 0\n",
    "        current_value = zagadka.basic_compare(self.rozwiazanie)\n",
    "        while(current_value<N):\n",
    "            self.mutate(random.randint(0,N-1))\n",
    "            liczba_iteracji+=1\n",
    "            new_value = zagadka.basic_compare(self.rozwiazanie)\n",
    "            if(new_value >= current_value):\n",
    "                current_value = new_value\n",
    "            else:\n",
    "                self.reverse_mutation()\n",
    "        print(\"Rozwiązanie znalezione po \",liczba_iteracji,\" iteracjach\")"
   ]
  },
  {
   "cell_type": "code",
   "execution_count": 8,
   "metadata": {},
   "outputs": [
    {
     "name": "stdout",
     "output_type": "stream",
     "text": [
      "Rozwiązanie znalezione po  156352  iteracjach\n"
     ]
    }
   ],
   "source": [
    "A = Zagadka(25)\n",
    "B = Solution()\n",
    "B.local_search(A)"
   ]
  },
  {
   "cell_type": "code",
   "execution_count": 9,
   "metadata": {},
   "outputs": [
    {
     "name": "stdout",
     "output_type": "stream",
     "text": [
      "Rozwiązanie znalezione po  361  iteracjach\n"
     ]
    }
   ],
   "source": [
    "A = Zagadka(25)\n",
    "B = Solution()\n",
    "B.iterated_local_search(A)"
   ]
  },
  {
   "cell_type": "markdown",
   "metadata": {},
   "source": [
    "Wygląda na solidną poprawę. Ale nadal -- to tylko cztery pozycje. Potencjalnie $K = 20$ możliwych wartości na każdej współrzędnej -- to daje $20^4$ możliwych\n",
    "kombinacji. Niemniej, rozwiązanie da się zawsze zgadnąć w $N \\times K=80$ możliwych podejściach. Dlaczego zatem nasze poszukiwania potrzebują większej\n",
    "liczby prób?"
   ]
  },
  {
   "cell_type": "code",
   "execution_count": 10,
   "metadata": {},
   "outputs": [],
   "source": [
    "class Solution:\n",
    "    def __init__(self,randomly = True, lista_n_elementowa = []):\n",
    "        if(randomly):\n",
    "            self.rozwiazanie = [random.randint(1,K) for i in range(0,N)]\n",
    "        else:\n",
    "            self.rozwiazanie = lista_n_elementowa\n",
    "\n",
    "    def mutate(self,position):\n",
    "        if(position>=N or position < 0):\n",
    "            print(\"Wskazano złą pozycję \", file=sys.stderr)\n",
    "            return\n",
    "        self.previous_position = position\n",
    "        self.previous_value = self.rozwiazanie[position]\n",
    "        self.rozwiazanie[position] = random.randint(1,K)\n",
    "\n",
    "    def reverse_mutation(self):\n",
    "        self.rozwiazanie[self.previous_position] = self.previous_value\n",
    "\n",
    "    def local_search(self, zagadka):\n",
    "        liczba_iteracji = 0\n",
    "        while(zagadka.basic_compare(self.rozwiazanie)<N):\n",
    "            self.mutate(random.randint(0,N-1))\n",
    "            liczba_iteracji+=1\n",
    "        print(\"Rozwiązanie znalezione po \",liczba_iteracji,\" iteracjach\")\n",
    "\n",
    "    def iterated_local_search(self, zagadka):\n",
    "        liczba_iteracji = 0\n",
    "        current_value = zagadka.basic_compare(self.rozwiazanie)\n",
    "        while(current_value<N):\n",
    "            self.mutate(random.randint(0,N-1))\n",
    "            liczba_iteracji+=1\n",
    "            new_value = zagadka.basic_compare(self.rozwiazanie)\n",
    "            if(new_value >= current_value):\n",
    "                current_value = new_value\n",
    "            else:\n",
    "                self.reverse_mutation()\n",
    "        print(\"Rozwiązanie znalezione po \",liczba_iteracji,\" iteracjach\")\n",
    "\n",
    "    def fixed_pos_ILS(self, zagadka):\n",
    "        liczba_iteracji = 0\n",
    "        current_value = zagadka.basic_compare(self.rozwiazanie)\n",
    "        list_of_indices = [i for i in range(0,N)]\n",
    "        while(current_value<N):\n",
    "            self.mutate(random.choice(list_of_indices))\n",
    "            liczba_iteracji+=1\n",
    "            new_value = zagadka.basic_compare(self.rozwiazanie)\n",
    "            if(new_value >= current_value):\n",
    "                current_value = new_value\n",
    "            else:\n",
    "                list_of_indices.remove(self.previous_position)\n",
    "                self.reverse_mutation()\n",
    "        print(\"Rozwiązanie znalezione po \",liczba_iteracji,\" iteracjach\")"
   ]
  },
  {
   "cell_type": "code",
   "execution_count": 11,
   "metadata": {},
   "outputs": [
    {
     "name": "stdout",
     "output_type": "stream",
     "text": [
      "Rozwiązanie znalezione po  127  iteracjach\n"
     ]
    }
   ],
   "source": [
    "A = Zagadka(25)\n",
    "B = Solution()\n",
    "B.fixed_pos_ILS(A)"
   ]
  },
  {
   "cell_type": "markdown",
   "metadata": {},
   "source": [
    "Mniej -- ale nadal za dużo. Co tym razem poszło nie tak?"
   ]
  },
  {
   "cell_type": "code",
   "execution_count": 14,
   "metadata": {},
   "outputs": [],
   "source": [
    "class Solution:\n",
    "    def __init__(self,randomly = True, lista_n_elementowa = []):\n",
    "        if(randomly):\n",
    "            self.rozwiazanie = [random.randint(1,K) for i in range(0,N)]\n",
    "        else:\n",
    "            self.rozwiazanie = lista_n_elementowa\n",
    "\n",
    "    def mutate(self,position):\n",
    "        if(position>=N or position < 0):\n",
    "            print(\"Wskazano złą pozycję \", file=sys.stderr)\n",
    "            return\n",
    "        self.previous_position = position\n",
    "        self.previous_value = self.rozwiazanie[position]\n",
    "        self.rozwiazanie[position] = random.randint(1,K)\n",
    "\n",
    "    def mutate(self, position, list_of_unused_values):\n",
    "        if(position>=N or position < 0):\n",
    "            print(\"Wskazano złą pozycję \", file=sys.stderr)\n",
    "            return\n",
    "        self.previous_position = position\n",
    "        self.previous_value = self.rozwiazanie[position]\n",
    "        self.rozwiazanie[position] = random.choice(list_of_unused_values)\n",
    "        \n",
    "    def reverse_mutation(self):\n",
    "        self.rozwiazanie[self.previous_position] = self.previous_value\n",
    "\n",
    "    def local_search(self, zagadka):\n",
    "        liczba_iteracji = 0\n",
    "        while(zagadka.basic_compare(self.rozwiazanie)<N):\n",
    "            self.mutate(random.randint(0,N-1))\n",
    "            liczba_iteracji+=1\n",
    "        print(\"Rozwiązanie znalezione po \",liczba_iteracji,\" iteracjach\")\n",
    "\n",
    "    def iterated_local_search(self, zagadka):\n",
    "        liczba_iteracji = 0\n",
    "        current_value = zagadka.basic_compare(self.rozwiazanie)\n",
    "        while(current_value<N):\n",
    "            self.mutate(random.randint(0,N-1))\n",
    "            liczba_iteracji+=1\n",
    "            new_value = zagadka.basic_compare(self.rozwiazanie)\n",
    "            if(new_value >= current_value):\n",
    "                current_value = new_value\n",
    "            else:\n",
    "                self.reverse_mutation()\n",
    "        print(\"Rozwiązanie znalezione po \",liczba_iteracji,\" iteracjach\")\n",
    "\n",
    "    def fixed_pos_ILS(self, zagadka):\n",
    "        liczba_iteracji = 0\n",
    "        current_value = zagadka.basic_compare(self.rozwiazanie)\n",
    "        list_of_indices = [i for i in range(0,N)]\n",
    "        while(current_value<N):\n",
    "            self.mutate(random.choice(list_of_indices))\n",
    "            liczba_iteracji+=1\n",
    "            new_value = zagadka.basic_compare(self.rozwiazanie)\n",
    "            if(new_value >= current_value):\n",
    "                current_value = new_value\n",
    "            else:\n",
    "                list_of_indices.remove(self.previous_position)\n",
    "                self.reverse_mutation()\n",
    "        print(\"Rozwiązanie znalezione po \",liczba_iteracji,\" iteracjach\")\n",
    "\n",
    "    def perfected_ILS(self,zagadka):\n",
    "        liczba_iteracji = 0\n",
    "        current_value = zagadka.basic_compare(self.rozwiazanie)\n",
    "        pos = 0\n",
    "        list_of_values = [i for i in range(0,K)]\n",
    "        list_of_values.remove(self.rozwiazanie[pos])\n",
    "        while(pos < N):\n",
    "            liczba_iteracji+=1\n",
    "            self.mutate(pos,list_of_values)\n",
    "            new_value = zagadka.basic_compare(self.rozwiazanie)\n",
    "            if(new_value > current_value):\n",
    "                list_of_values = [i for i in range(0,K)]\n",
    "                current_value = new_value\n",
    "                pos+=1\n",
    "            elif(new_value < current_value):\n",
    "                list_of_values = [i for i in range(0,K)]\n",
    "                self.reverse_mutation()\n",
    "                pos+=1\n",
    "            else:\n",
    "                list_of_values.remove(self.rozwiazanie[pos])\n",
    "                #The last case involves the situation where the introduced change guessed wrong.\n",
    "                continue;\n",
    "        print(\"Rozwiązanie znalezione po \",liczba_iteracji,\" iteracjach\")"
   ]
  },
  {
   "cell_type": "code",
   "execution_count": 15,
   "metadata": {},
   "outputs": [
    {
     "name": "stdout",
     "output_type": "stream",
     "text": [
      "Rozwiązanie znalezione po  38  iteracjach\n"
     ]
    }
   ],
   "source": [
    "A = Zagadka(25)\n",
    "B = Solution()\n",
    "B.perfected_ILS(A)"
   ]
  }
 ],
 "metadata": {
  "kernelspec": {
   "display_name": "Python 3",
   "language": "python",
   "name": "python3"
  },
  "language_info": {
   "codemirror_mode": {
    "name": "ipython",
    "version": 3
   },
   "file_extension": ".py",
   "mimetype": "text/x-python",
   "name": "python",
   "nbconvert_exporter": "python",
   "pygments_lexer": "ipython3",
   "version": "3.7.3"
  }
 },
 "nbformat": 4,
 "nbformat_minor": 2
}
