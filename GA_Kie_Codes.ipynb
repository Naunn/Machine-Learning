{
 "cells": [
  {
   "cell_type": "code",
   "execution_count": 188,
   "metadata": {},
   "outputs": [],
   "source": [
    "from typing import List, Callable # potrzebne do utworzenia genomu, FitnessFunc (https://docs.python.org/3/library/typing.html#typing.Callable)\n",
    "from random import choices, randint, randrange, random # potrzebne do lodowań\n",
    "from collections import namedtuple # potrzebne do utworzenia listy przedmiotów"
   ]
  },
  {
   "cell_type": "code",
   "execution_count": 129,
   "metadata": {},
   "outputs": [],
   "source": [
    "Genome = List[int] # Genom - lista przedmiotów określona binarnie\n",
    "Population = List[Genome] # Populacja - lista list przedmiotów (genomów)\n",
    "FitnessFunc = Callable[[Genome], int] # Funkcja dopasowania - składnia Callable() musi być zawsze używana z dokładnie dwiema wartościami: listą argumentów i typem zwracanym.\n",
    "Thing = namedtuple('Thing', ['name', 'value', 'weight']) # namedtuple() jest specjalnym Pythonowym obiektem, podobnym do słownika\n",
    "\n",
    "things = [\n",
    "    Thing('Laptop', 500, 2200),\n",
    "    Thing('Headphones', 150, 160),\n",
    "    Thing('Coffe Mug', 60, 350),\n",
    "    Thing('Notepad', 40, 333),\n",
    "    Thing('Water Bottle', 30, 192),\n",
    "]\n",
    "\n",
    "more_things = [\n",
    "    Thing('Mints', 5, 25),\n",
    "    Thing('Socks', 10, 38),\n",
    "    Thing('Tissues', 15, 80),\n",
    "    Thing('Phone', 500, 200),\n",
    "    Thing('Baseball Cap', 100, 70),\n",
    "] + things\n",
    "\n",
    "def generate_genome(length: int) -> Genome:\n",
    "    # \"->\" oznacza adnotacje do funkcji, mówi ona \"third-party\" programom oraz nam, jaki typ zwraca dana funkcja\n",
    "    # jest to nieobligatoryjny zapis\n",
    "    # https://www.youtube.com/watch?v=k56rEoRjK4k\n",
    "    # https://peps.python.org/pep-3107/  \n",
    "    # https://renenyffenegger.ch/notes/development/languages/Python/dunders/__annotations__/index\n",
    "    return choices([0,1], k = length)\n",
    "\n",
    "def generate_population(size: int, genome_length: int) -> Population:\n",
    "    return [generate_genome(genome_length) for _ in range(size)] # podkreślnik \"_\" jest \"poprawniejszym\" zapisem w języku iteracji (miast pisania i,j,k,l - jak w matematyce)\n",
    "\n",
    "def fitness(genome: Genome, things: [Thing], weight_limit: int) -> int:\n",
    "    # odwołania typu \"genome: Genome\" służą do wykorzystania wczesniej utworzonych obiektów\n",
    "    if len(Genome) != len(things):\n",
    "        raise ValueError(\"genome and things must be of the same length\")\n",
    "        # jest to niezbędne, w przeciwnym wypadku tablica przedmiotów i tablica genomów [1,0,0,0,1 ...] itp. nie będą się pokrywać\n",
    "        \n",
    "    weight = 0\n",
    "    value = 0\n",
    "    \n",
    "    for i, thing in enumerate(things): # enumerate() - ułatwia \"przechodzenie\" po przedmiotach z listy https://realpython.com/python-enumerate/\n",
    "        if genome[i] == 1:\n",
    "            weigth += thing.weight\n",
    "            value += thing.value\n",
    "            # sepcjalna własność (odwoływań) funkcji enumerate()\n",
    "            \n",
    "            if weigth > weight_limit: # jeżeli przekroczymy limit wagowy, to rozwiązanie \"do wyrzucenia\"\n",
    "                return 0\n",
    "            \n",
    "    return value\n",
    "\n",
    "def selection_pair(population: Population, fitness_func: FitnessFunc) -> Population:\n",
    "    # Dlaczego nie odwołujemy się do naszej funkcji fitness?\n",
    "    # Jest to związane z architekturą oprogramowania oraz rozdzieleniem problemów.\n",
    "    # Wcześniej napisana funkcja jest dedykowana problemowi pakowania plecaka (dodatkowe dwa argumenty - rzeczy, dopuszczalna waga)\n",
    "    return choices(\n",
    "        population = Population,\n",
    "        weights = [fitness_func(genome) for genome in population],\n",
    "        # przez wykorzystanie wag prawdopodobieństwa, podpowiadamy funkcji, aby genomy o większej wadzę wybierał z większym prawdopodobieństwem\n",
    "        k = 2\n",
    "    )\n",
    "\n",
    "def single_point_crossover(a: Genome, b: Genome) -> Tuple[Genome, Genome]:\n",
    "    if len(a) != len(b):\n",
    "        raise ValueError(\"genome and things must be of the same length\")\n",
    "        \n",
    "    # jeżeli obie listy genomów będą długości 1, to nic sobie nie pomieszamy\n",
    "    length = len(a)\n",
    "    if length < 2:\n",
    "        return a, b\n",
    "    \n",
    "    # mieszanie dwóch genomów w losowym ich \"przecięciu\"\n",
    "    p = randint.(1, length - 1)\n",
    "    return a[0:p] + b[p:], b[0:p] + a[p:]\n",
    "\n",
    "def mutataion(genome: Genome, num: int = 1, probability: float = 0.5) -> Genome: # z pewnym prawdopodobieństwem będziemy zmieniać 0 -> 1 oraz 1 -> 0\n",
    "    for _ in range(num):\n",
    "        index = randrange(len(genome)) # mniej kosztowna funkcja losująca indeks z określonego zakresu\n",
    "        # https://stackoverflow.com/questions/3540431/what-is-the-difference-between-random-randint-and-randrange\n",
    "        genome[index] = genome[index] if random() > probability else abs(genome[index] - 1)\n",
    "        # inna konstrukcja warunku \"if\" tj. w przypadku wylosowania liczby większej od probability, przypisuje genome[index] = genome[index]\n",
    "        # w przeciwnym wypadku abs(genome[index] - 1) - nalezy rozważyć oba możliwe przypadki:\n",
    "        # jeżeli genome[index] = 1, to abs(genome[index] - 1) = abs(1 - 1) = 0\n",
    "        # jeżeli genome[index] = 0, to abs(genome[index] - 1) = abs(0 - 1) = abs(-1) = 1\n",
    "        # sprytna zamiana wartości\n",
    "    return genome"
   ]
  },
  {
   "cell_type": "code",
   "execution_count": null,
   "metadata": {},
   "outputs": [],
   "source": []
  },
  {
   "cell_type": "code",
   "execution_count": 130,
   "metadata": {},
   "outputs": [
    {
     "name": "stdout",
     "output_type": "stream",
     "text": [
      "[1, 0, 0, 1, 1, 1, 0] \n",
      " [[1, 0, 0, 1, 1, 1, 0], [1, 0, 0, 1, 0, 1, 0], [0, 0, 1, 1, 0, 0, 0], [1, 1, 1, 1, 0, 0, 1], [1, 0, 0, 1, 0, 0, 0], [1, 0, 0, 1, 1, 1, 1], [0, 0, 0, 0, 0, 0, 1], [1, 1, 1, 1, 1, 1, 1], [0, 1, 1, 1, 0, 0, 0], [1, 0, 0, 1, 0, 1, 1]] \n",
      " [Thing(name='Laptop', value=500, weight=2200), Thing(name='Headphones', value=150, weight=160), Thing(name='Coffe Mug', value=60, weight=350), Thing(name='Notepad', value=40, weight=333), Thing(name='Water Bottle', value=30, weight=192)] \n",
      " [Thing(name='Mints', value=5, weight=25), Thing(name='Socks', value=10, weight=38), Thing(name='Tissues', value=15, weight=80), Thing(name='Phone', value=500, weight=200), Thing(name='Baseball Cap', value=100, weight=70), Thing(name='Laptop', value=500, weight=2200), Thing(name='Headphones', value=150, weight=160), Thing(name='Coffe Mug', value=60, weight=350), Thing(name='Notepad', value=40, weight=333), Thing(name='Water Bottle', value=30, weight=192)]\n"
     ]
    }
   ],
   "source": [
    "print(generate_genome(7), \"\\n\", generate_population(10, 7), \"\\n\", things, \"\\n\", more_things)"
   ]
  },
  {
   "cell_type": "code",
   "execution_count": null,
   "metadata": {},
   "outputs": [],
   "source": []
  }
 ],
 "metadata": {
  "kernelspec": {
   "display_name": "Python 3",
   "language": "python",
   "name": "python3"
  },
  "language_info": {
   "codemirror_mode": {
    "name": "ipython",
    "version": 3
   },
   "file_extension": ".py",
   "mimetype": "text/x-python",
   "name": "python",
   "nbconvert_exporter": "python",
   "pygments_lexer": "ipython3",
   "version": "3.8.3"
  }
 },
 "nbformat": 4,
 "nbformat_minor": 2
}
