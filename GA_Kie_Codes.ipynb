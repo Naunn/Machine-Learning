{
 "cells": [
  {
   "cell_type": "code",
   "execution_count": 55,
   "metadata": {},
   "outputs": [],
   "source": [
    "from typing import List, Callable, Tuple # potrzebne do utworzenia genomu, FitnessFunc (https://docs.python.org/3/library/typing.html#typing.Callable)\n",
    "from random import choices, randint, randrange, random # potrzebne do losowań\n",
    "from collections import namedtuple # potrzebne do utworzenia listy przedmiotów\n",
    "from functools import partial # potrzebne do częściowego wykorzystywania funkcji\n",
    "import time # potrzebne do pomiaru czasu działania algorytmu"
   ]
  },
  {
   "cell_type": "code",
   "execution_count": 74,
   "metadata": {},
   "outputs": [
    {
     "name": "stdout",
     "output_type": "stream",
     "text": [
      "number of generations: 5\n",
      "time: 0.0010120868682861328s\n",
      "best solution: ['Laptop', 'Headphones', 'Coffe Mug', 'Water Bottle']\n"
     ]
    }
   ],
   "source": [
    "Genome = List[int] # Genom - lista przedmiotów określona binarnie\n",
    "Population = List[Genome] # Populacja - lista list przedmiotów (genomów)\n",
    "Thing = namedtuple('Thing', ['name', 'value', 'weight']) # namedtuple() jest specjalnym Pythonowym obiektem, podobnym do słownika\n",
    "\n",
    "# w celu rozdzielenia problemu od algorytmu (charakterystyka metaheurystyk), będziemy wykorzystywać dodatkowe funkcje\n",
    "FitnessFunc = Callable[[Genome], int] # funkcja dopasowania - składnia Callable() musi być zawsze używana z dokładnie dwiema wartościami: listą argumentów i typem zwracanym.\n",
    "PopulationFunc = Callable[[], Population] # nie przyjmuje wartości, a zwraca populacje\n",
    "SelectionFunction = Callable[[Population, FitnessFunc], Tuple[Genome, Genome]] # wybiera dwa rozwiązania w celu ich krzyżowania (rodzice -> dziecko)\n",
    "CrossoverFunc = Callable[[Genome, Genome], Tuple[Genome, Genome]] # bierze dwa genomy i zwraca nowy genom\n",
    "MutationFunc = Callable[[Genome], Genome] # bierze jeden genom i zwraca nowy genom\n",
    "\n",
    "things = [\n",
    "    Thing('Laptop', 500, 2200),\n",
    "    Thing('Headphones', 150, 160),\n",
    "    Thing('Coffe Mug', 60, 350),\n",
    "    Thing('Notepad', 40, 333),\n",
    "    Thing('Water Bottle', 30, 192),\n",
    "]\n",
    "\n",
    "more_things = [\n",
    "    Thing('Mints', 5, 25),\n",
    "    Thing('Socks', 10, 38),\n",
    "    Thing('Tissues', 15, 80),\n",
    "    Thing('Phone', 500, 200),\n",
    "    Thing('Baseball Cap', 100, 70),\n",
    "] + things\n",
    "\n",
    "def generate_genome(length: int) -> Genome:\n",
    "    # \"->\" oznacza adnotacje do funkcji, mówi ona \"third-party\" programom oraz nam, jaki typ zwraca dana funkcja\n",
    "    # jest to nieobligatoryjny zapis\n",
    "    # https://www.youtube.com/watch?v=k56rEoRjK4k\n",
    "    # https://peps.python.org/pep-3107/  \n",
    "    # https://renenyffenegger.ch/notes/development/languages/Python/dunders/__annotations__/index\n",
    "    return choices([0,1], k = length)\n",
    "\n",
    "def generate_population(size: int, genome_length: int) -> Population:\n",
    "    return [generate_genome(genome_length) for _ in range(size)] # podkreślnik \"_\" jest \"poprawniejszym\" zapisem w języku iteracji (miast pisania i,j,k,l - jak w matematyce)\n",
    "\n",
    "def fitness(genome: Genome, things: [Thing], weight_limit: int) -> int:\n",
    "    # odwołania typu \"genome: Genome\" służą do wykorzystania wczesniej utworzonych obiektów\n",
    "    if len(genome) != len(things):\n",
    "        raise ValueError(\"genome and things must be of the same length\")\n",
    "        # jest to niezbędne, w przeciwnym wypadku tablica przedmiotów i tablica genomów [1,0,0,0,1 ...] itp. nie będą się pokrywać\n",
    "        \n",
    "    weight = 0\n",
    "    value = 0\n",
    "    \n",
    "    for i, thing in enumerate(things): # enumerate() - ułatwia \"przechodzenie\" po przedmiotach z listy https://realpython.com/python-enumerate/\n",
    "        if genome[i] == 1:\n",
    "            weight += thing.weight\n",
    "            value += thing.value\n",
    "            # sepcjalna własność (odwoływań) funkcji enumerate()\n",
    "            \n",
    "            if weight > weight_limit: # jeżeli przekroczymy limit wagowy, to rozwiązanie \"do wyrzucenia\"\n",
    "                return 0\n",
    "            \n",
    "    return value\n",
    "\n",
    "def selection_pair(population: Population, fitness_func: FitnessFunc) -> Population:\n",
    "    # Dlaczego nie odwołujemy się do naszej funkcji fitness?\n",
    "    # Jest to związane z architekturą oprogramowania oraz rozdzieleniem problemów.\n",
    "    # Wcześniej napisana funkcja jest dedykowana problemowi pakowania plecaka (dodatkowe dwa argumenty - rzeczy, dopuszczalna waga)\n",
    "    return choices(\n",
    "        population = population,\n",
    "        weights = [fitness_func(genome) for genome in population],\n",
    "        # przez wykorzystanie wag prawdopodobieństwa, podpowiadamy funkcji, aby genomy o większej wadzę wybierał z większym prawdopodobieństwem\n",
    "        k = 2\n",
    "    )\n",
    "\n",
    "def single_point_crossover(a: Genome, b: Genome) -> Tuple[Genome, Genome]:\n",
    "    if len(a) != len(b):\n",
    "        raise ValueError(\"genome and things must be of the same length\")\n",
    "        \n",
    "    # jeżeli obie listy genomów będą długości 1, to nic sobie nie pomieszamy\n",
    "    length = len(a)\n",
    "    if length < 2:\n",
    "        return a, b\n",
    "    \n",
    "    # mieszanie dwóch genomów w losowym ich \"przecięciu\"\n",
    "    p = randint(1, length - 1)\n",
    "    return a[0:p] + b[p:], b[0:p] + a[p:]\n",
    "\n",
    "def mutation(genome: Genome, num: int = 1, probability: float = 0.5) -> Genome: # z pewnym prawdopodobieństwem będziemy zmieniać 0 -> 1 oraz 1 -> 0\n",
    "    for _ in range(num):\n",
    "        index = randrange(len(genome)) # mniej kosztowna funkcja losująca indeks z określonego zakresu\n",
    "        # https://stackoverflow.com/questions/3540431/what-is-the-difference-between-random-randint-and-randrange\n",
    "        genome[index] = genome[index] if random() > probability else abs(genome[index] - 1)\n",
    "        # inna konstrukcja warunku \"if\" tj. w przypadku wylosowania liczby większej od probability, przypisuje genome[index] = genome[index]\n",
    "        # w przeciwnym wypadku abs(genome[index] - 1) - nalezy rozważyć oba możliwe przypadki:\n",
    "        # jeżeli genome[index] = 1, to abs(genome[index] - 1) = abs(1 - 1) = 0\n",
    "        # jeżeli genome[index] = 0, to abs(genome[index] - 1) = abs(0 - 1) = abs(-1) = 1\n",
    "        # sprytna zamiana wartości\n",
    "    return genome\n",
    "\n",
    "def run_evolution(\n",
    "    populate_func: PopulationFunc,\n",
    "    fitness_func: FitnessFunc,\n",
    "    fitness_limit: int, # warunek końcowy dla dopasowania funkcji fitness\n",
    "    selection_func: SelectionFunction = selection_pair,\n",
    "    crossover_func: CrossoverFunc = single_point_crossover,\n",
    "    mutation_func: MutationFunc = mutation,\n",
    "    generation_limit: int = 100 # warunek końcowy dla liczby pokoleń\n",
    ") -> Tuple[Population, int]:\n",
    "    population = populate_func() # wskazanie populacji\n",
    "    \n",
    "    for i in range(generation_limit): # w tym wypadku, sortowanie stale zmieni kolejność w danych\n",
    "        population = sorted(\n",
    "            population,\n",
    "            key = lambda genome: fitness_func(genome), # sortowanie względem wyniku funkcji fitness na genomie\n",
    "            reverse = True\n",
    "        )\n",
    "        \n",
    "        if fitness_func(population[0]) >= fitness_limit: # jeżeli pierwszy (najlepszy) genom jest lepszy od wymaganego limitu, to stop\n",
    "            break\n",
    "            \n",
    "        next_generation = population[0:2] # zostawiamy sobie top dwa rozwiązania dla naszej kolejnego pokolenia\n",
    "        \n",
    "        # utworzenie nowych genomów dla kolejnych pokoleń\n",
    "        for j in range(int(len(population) / 2) - 1):\n",
    "            parents = selection_func(population, fitness_func) # wybieramy parę (możliwie najlepszą)\n",
    "            offspring_a, offspring_b = crossover_func(parents[0], parents[1]) # krzyżujemy parę rodziców\n",
    "            offspring_a = mutation_func(offspring_a) # mutujemy pierwsze dziecko\n",
    "            offspring_b = mutation_func(offspring_b) # mutujemy drugie dziecko\n",
    "            next_generation += [offspring_a, offspring_b] # dodajemy kolejne zmutowane dzieci do nowego pokolenia\n",
    "        \n",
    "        population = next_generation # nadpisanie starego pokolenia, nowym\n",
    "        \n",
    "    # po osiągnieciu fitness_limit lub generation_limit, musimy zwrócić jakąś wartość, stąd ponowne sortowanie w przypadku osiągnięcia limitu pokoleń\n",
    "    population = sorted(\n",
    "        population,\n",
    "        key = lambda genome: fitness_func(genome),\n",
    "        reverse = True\n",
    "    )\n",
    "    \n",
    "    # zwracamy populację oraz liczbe iteracji\n",
    "    return population, i\n",
    "\n",
    "start = time.time()\n",
    "# wywołanie algorytmu - skorzystamy z funkcji partial(), która potrafi ograniczyć wprowadzane zmienne, poprzez ustawienie pozsotałych na stałe (określone przez nas)\n",
    "# https://www.geeksforgeeks.org/partial-functions-python/\n",
    "population, generations = run_evolution(\n",
    "    populate_func = partial(\n",
    "        generate_population, size = 10, genome_length = len(things)\n",
    "    ),\n",
    "    fitness_func = partial(\n",
    "        fitness, things = things, weight_limit = 3000\n",
    "    ),\n",
    "    fitness_limit = 740,\n",
    "    generation_limit = 100\n",
    ")\n",
    "end = time.time()\n",
    "\n",
    "# funkcja, która pomaga w wizualizacji print-a (nieobligatoryjna)\n",
    "def genome_to_things(genome: Genome, things: [Thing]) -> [Thing]:\n",
    "    result = []\n",
    "    for i, thing in enumerate(things):\n",
    "        if genome[i] == 1:\n",
    "            result += [thing.name]\n",
    "    \n",
    "    return result\n",
    "\n",
    "print(f\"number of generations: {generations}\")\n",
    "print(f\"time: {end - start}s\")\n",
    "print(f\"best solution: {genome_to_things(population[0], things)}\")"
   ]
  },
  {
   "cell_type": "code",
   "execution_count": 75,
   "metadata": {},
   "outputs": [
    {
     "data": {
      "text/plain": [
       "[Thing(name='Laptop', value=500, weight=2200),\n",
       " Thing(name='Headphones', value=150, weight=160),\n",
       " Thing(name='Coffe Mug', value=60, weight=350),\n",
       " Thing(name='Notepad', value=40, weight=333),\n",
       " Thing(name='Water Bottle', value=30, weight=192)]"
      ]
     },
     "execution_count": 75,
     "metadata": {},
     "output_type": "execute_result"
    }
   ],
   "source": [
    "things"
   ]
  },
  {
   "cell_type": "raw",
   "metadata": {},
   "source": [
    "more_things"
   ]
  },
  {
   "cell_type": "code",
   "execution_count": 77,
   "metadata": {},
   "outputs": [
    {
     "data": {
      "text/plain": [
       "3"
      ]
     },
     "execution_count": 77,
     "metadata": {},
     "output_type": "execute_result"
    }
   ],
   "source": [
    "tst_lab = {1: [2, 3, 4], 2: [1, 7, 6], 3: [1, 6], 4: [1, 5], 5: [4], 6: [2, 3], 7: [2]}\n",
    "tst_lab[1][1]"
   ]
  },
  {
   "cell_type": "code",
   "execution_count": null,
   "metadata": {},
   "outputs": [],
   "source": []
  }
 ],
 "metadata": {
  "kernelspec": {
   "display_name": "Python 3",
   "language": "python",
   "name": "python3"
  },
  "language_info": {
   "codemirror_mode": {
    "name": "ipython",
    "version": 3
   },
   "file_extension": ".py",
   "mimetype": "text/x-python",
   "name": "python",
   "nbconvert_exporter": "python",
   "pygments_lexer": "ipython3",
   "version": "3.8.3"
  }
 },
 "nbformat": 4,
 "nbformat_minor": 2
}
