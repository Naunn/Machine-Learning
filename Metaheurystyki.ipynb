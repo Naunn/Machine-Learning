{
 "cells": [
  {
   "cell_type": "code",
   "execution_count": 31,
   "metadata": {},
   "outputs": [],
   "source": [
    "import random\n",
    "import sys\n",
    "import geneticalgorithm\n",
    "\n",
    "N = 4\n",
    "K = 20\n",
    "\n",
    "class Zagadka:\n",
    "    \n",
    "    def __init__(self, seed):\n",
    "        random.seed(seed)\n",
    "        self.__haslo = [random.randint(1,K) for i in range(0,N)]\n",
    "    def to_string(self):\n",
    "        return str(self.__haslo)\n",
    "\n",
    " #podstawowe porównanie -- szukamy miejsc, na których\n",
    " #haslo i podejscie sie zgadzaja\n",
    "    def basic_compare(self, podejscie):\n",
    "        poprawne = 0\n",
    "        for i in range(0,N):\n",
    "            if(self.__haslo[i] == podejscie[i]):\n",
    "                poprawne+=1\n",
    "        return poprawne"
   ]
  },
  {
   "cell_type": "code",
   "execution_count": 34,
   "metadata": {},
   "outputs": [
    {
     "name": "stdout",
     "output_type": "stream",
     "text": [
      "[5, 19, 3, 9]\n"
     ]
    },
    {
     "data": {
      "text/plain": [
       "<__main__.Zagadka at 0x17d14ec2670>"
      ]
     },
     "execution_count": 34,
     "metadata": {},
     "output_type": "execute_result"
    }
   ],
   "source": [
    "A = Zagadka(1)\n",
    "print(A.to_string())\n",
    "A"
   ]
  },
  {
   "cell_type": "code",
   "execution_count": 26,
   "metadata": {},
   "outputs": [
    {
     "data": {
      "text/plain": [
       "[1, 2, 3]"
      ]
     },
     "execution_count": 26,
     "metadata": {},
     "output_type": "execute_result"
    }
   ],
   "source": [
    "[1,2,3,4,5,6,7][:3]"
   ]
  },
  {
   "cell_type": "code",
   "execution_count": 39,
   "metadata": {},
   "outputs": [],
   "source": [
    "# \"przyjmuje się\", że lista osobników nie przekracza N^2, gdzie N-liczba cech (w tym przypadku 4 pola)\n",
    "class GenAlg:\n",
    "    \n",
    "    def __init__(self,randomly = True, lista_n_elementowa = []):\n",
    "        if(randomly):\n",
    "            self.rozwiazanie = [random.randint(1,K) for i in range(0,N)]\n",
    "        else:\n",
    "            self.rozwiazanie = lista_n_elementowa\n",
    "            \n",
    "    def mutate(self,position):\n",
    "        if(position>=N or position < 0):\n",
    "            print(\"Wskazano złą pozycję \", file=sys.stderr)\n",
    "            return\n",
    "        self.previous_position = position\n",
    "        self.previous_value = self.rozwiazanie[position]\n",
    "        self.rozwiazanie[position] = random.randint(1,K)\n",
    "    \n",
    "    \n",
    "    def cross(self, zagadka):\n",
    "        \n",
    "        \n",
    "    def stop(self, zagadka):\n",
    "        while(zagadka.basic_compare(self.rozwiazanie)<N):\n",
    "                self.mutate(random.randint(0,N-1))\n",
    "                liczba_iteracji += 1\n",
    "            print(\"Rozwiązanie znalezione po \",liczba_iteracji,\" iteracjach\")\n"
   ]
  },
  {
   "cell_type": "code",
   "execution_count": 40,
   "metadata": {},
   "outputs": [
    {
     "data": {
      "text/plain": [
       "<__main__.GenAlg at 0x17d140999a0>"
      ]
     },
     "execution_count": 40,
     "metadata": {},
     "output_type": "execute_result"
    }
   ],
   "source": [
    "GenAlg(A)"
   ]
  },
  {
   "cell_type": "code",
   "execution_count": null,
   "metadata": {},
   "outputs": [],
   "source": []
  }
 ],
 "metadata": {
  "kernelspec": {
   "display_name": "Python 3",
   "language": "python",
   "name": "python3"
  },
  "language_info": {
   "codemirror_mode": {
    "name": "ipython",
    "version": 3
   },
   "file_extension": ".py",
   "mimetype": "text/x-python",
   "name": "python",
   "nbconvert_exporter": "python",
   "pygments_lexer": "ipython3",
   "version": "3.8.3"
  }
 },
 "nbformat": 4,
 "nbformat_minor": 4
}
